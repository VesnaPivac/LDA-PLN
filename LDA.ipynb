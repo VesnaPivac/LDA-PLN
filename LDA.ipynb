{
  "cells": [
    {
      "cell_type": "markdown",
      "metadata": {
        "id": "qNwrP0PdnL7G"
      },
      "source": [
        "# Librerias"
      ]
    },
    {
      "cell_type": "code",
      "execution_count": 1,
      "metadata": {
        "id": "wR7VaFQV6o5m"
      },
      "outputs": [],
      "source": [
        "import tensorflow as tf\n",
        "import pandas as pd\n",
        "import unicodedata\n",
        "import string\n",
        "import re\n",
        "import numpy as np\n",
        "import matplotlib.pyplot as plt\n",
        "import nltk\n",
        "from nltk.tokenize import TweetTokenizer\n",
        "from nltk.corpus import stopwords\n",
        "from nltk.stem.snowball import SnowballStemmer\n",
        "from nltk.stem.wordnet import WordNetLemmatizer\n",
        "from sklearn.model_selection import train_test_split\n",
        "from sklearn.feature_extraction.text import CountVectorizer\n",
        "from sklearn.feature_extraction.text import TfidfTransformer\n",
        "from sklearn.decomposition import LatentDirichletAllocation as LDA\n"
      ]
    },
    {
      "cell_type": "code",
      "execution_count": 2,
      "metadata": {
        "colab": {
          "base_uri": "https://localhost:8080/"
        },
        "id": "WnWb5ciYVKJv",
        "outputId": "fd1100b2-95b1-4651-ffc0-dbff180796ee"
      },
      "outputs": [
        {
          "output_type": "stream",
          "name": "stdout",
          "text": [
            "[nltk_data] Downloading package stopwords to /root/nltk_data...\n",
            "[nltk_data]   Unzipping corpora/stopwords.zip.\n"
          ]
        },
        {
          "output_type": "execute_result",
          "data": {
            "text/plain": [
              "True"
            ]
          },
          "metadata": {},
          "execution_count": 2
        }
      ],
      "source": [
        "nltk.download('stopwords')\n",
        "# nltk.download('wordnet')"
      ]
    },
    {
      "cell_type": "markdown",
      "metadata": {
        "id": "-LostjXxMeBS"
      },
      "source": [
        "# Pre-procesamiento de datos"
      ]
    },
    {
      "cell_type": "code",
      "execution_count": 54,
      "metadata": {
        "id": "pkWdHtze6l9s"
      },
      "outputs": [],
      "source": [
        "#Creamos una variable df con el dataset\n",
        "df = pd.read_csv(\"haha_2021_train.csv\")"
      ]
    },
    {
      "cell_type": "code",
      "source": [
        "df.info()"
      ],
      "metadata": {
        "colab": {
          "base_uri": "https://localhost:8080/"
        },
        "id": "yRbAzKb_gGX0",
        "outputId": "0c91d7cd-59a2-4ea7-d72b-4a8188d55b49"
      },
      "execution_count": 56,
      "outputs": [
        {
          "output_type": "stream",
          "name": "stdout",
          "text": [
            "<class 'pandas.core.frame.DataFrame'>\n",
            "RangeIndex: 24000 entries, 0 to 23999\n",
            "Data columns (total 12 columns):\n",
            " #   Column           Non-Null Count  Dtype  \n",
            "---  ------           --------------  -----  \n",
            " 0   id               24000 non-null  object \n",
            " 1   text             24000 non-null  object \n",
            " 2   is_humor         24000 non-null  int64  \n",
            " 3   votes_no         24000 non-null  int64  \n",
            " 4   votes_1          24000 non-null  int64  \n",
            " 5   votes_2          24000 non-null  int64  \n",
            " 6   votes_3          24000 non-null  int64  \n",
            " 7   votes_4          24000 non-null  int64  \n",
            " 8   votes_5          24000 non-null  int64  \n",
            " 9   humor_rating     9253 non-null   float64\n",
            " 10  humor_mechanism  4800 non-null   object \n",
            " 11  humor_target     1629 non-null   object \n",
            "dtypes: float64(1), int64(7), object(4)\n",
            "memory usage: 2.2+ MB\n"
          ]
        }
      ]
    },
    {
      "cell_type": "code",
      "source": [
        "df.shape"
      ],
      "metadata": {
        "colab": {
          "base_uri": "https://localhost:8080/"
        },
        "id": "qB34LuiPghS-",
        "outputId": "0ea9f9a5-e8c3-4be7-99c1-8cda22b5b90a"
      },
      "execution_count": 57,
      "outputs": [
        {
          "output_type": "execute_result",
          "data": {
            "text/plain": [
              "(24000, 12)"
            ]
          },
          "metadata": {},
          "execution_count": 57
        }
      ]
    },
    {
      "cell_type": "code",
      "execution_count": 4,
      "metadata": {
        "id": "8q1WuYVGGe1c"
      },
      "outputs": [],
      "source": [
        "df.drop([\"votes_no\",\"votes_1\", \"votes_2\", \"votes_3\", \"votes_4\", \"votes_5\",\"humor_mechanism\"],\n",
        "          axis=1,\n",
        "          inplace=True)"
      ]
    },
    {
      "cell_type": "code",
      "execution_count": 5,
      "metadata": {
        "colab": {
          "base_uri": "https://localhost:8080/",
          "height": 206
        },
        "id": "5-fqopZH08r1",
        "outputId": "780ae99c-e4a7-44a2-aa3d-0871e62b0dee"
      },
      "outputs": [
        {
          "output_type": "execute_result",
          "data": {
            "text/plain": [
              "                                                text  is_humor\n",
              "0  Niveles de retraso mental: \\n\\n— Bajo.\\n— Medi...         1\n",
              "1  —Vamos Luke desenfunda tu sable, demuestra tu ...         1\n",
              "2  - ¿Te ofrezco algo?, ¿Agua, café, mi corazón, ...         1\n",
              "3              No se porqué me hago la cabeza deooos         0\n",
              "4  Quisiera saber que hago durante la siesta de l...         0"
            ],
            "text/html": [
              "\n",
              "  <div id=\"df-a02540c7-d8e6-4925-ac84-2be9fcc9609d\">\n",
              "    <div class=\"colab-df-container\">\n",
              "      <div>\n",
              "<style scoped>\n",
              "    .dataframe tbody tr th:only-of-type {\n",
              "        vertical-align: middle;\n",
              "    }\n",
              "\n",
              "    .dataframe tbody tr th {\n",
              "        vertical-align: top;\n",
              "    }\n",
              "\n",
              "    .dataframe thead th {\n",
              "        text-align: right;\n",
              "    }\n",
              "</style>\n",
              "<table border=\"1\" class=\"dataframe\">\n",
              "  <thead>\n",
              "    <tr style=\"text-align: right;\">\n",
              "      <th></th>\n",
              "      <th>text</th>\n",
              "      <th>is_humor</th>\n",
              "    </tr>\n",
              "  </thead>\n",
              "  <tbody>\n",
              "    <tr>\n",
              "      <th>0</th>\n",
              "      <td>Niveles de retraso mental: \\n\\n— Bajo.\\n— Medi...</td>\n",
              "      <td>1</td>\n",
              "    </tr>\n",
              "    <tr>\n",
              "      <th>1</th>\n",
              "      <td>—Vamos Luke desenfunda tu sable, demuestra tu ...</td>\n",
              "      <td>1</td>\n",
              "    </tr>\n",
              "    <tr>\n",
              "      <th>2</th>\n",
              "      <td>- ¿Te ofrezco algo?, ¿Agua, café, mi corazón, ...</td>\n",
              "      <td>1</td>\n",
              "    </tr>\n",
              "    <tr>\n",
              "      <th>3</th>\n",
              "      <td>No se porqué me hago la cabeza deooos</td>\n",
              "      <td>0</td>\n",
              "    </tr>\n",
              "    <tr>\n",
              "      <th>4</th>\n",
              "      <td>Quisiera saber que hago durante la siesta de l...</td>\n",
              "      <td>0</td>\n",
              "    </tr>\n",
              "  </tbody>\n",
              "</table>\n",
              "</div>\n",
              "      <button class=\"colab-df-convert\" onclick=\"convertToInteractive('df-a02540c7-d8e6-4925-ac84-2be9fcc9609d')\"\n",
              "              title=\"Convert this dataframe to an interactive table.\"\n",
              "              style=\"display:none;\">\n",
              "        \n",
              "  <svg xmlns=\"http://www.w3.org/2000/svg\" height=\"24px\"viewBox=\"0 0 24 24\"\n",
              "       width=\"24px\">\n",
              "    <path d=\"M0 0h24v24H0V0z\" fill=\"none\"/>\n",
              "    <path d=\"M18.56 5.44l.94 2.06.94-2.06 2.06-.94-2.06-.94-.94-2.06-.94 2.06-2.06.94zm-11 1L8.5 8.5l.94-2.06 2.06-.94-2.06-.94L8.5 2.5l-.94 2.06-2.06.94zm10 10l.94 2.06.94-2.06 2.06-.94-2.06-.94-.94-2.06-.94 2.06-2.06.94z\"/><path d=\"M17.41 7.96l-1.37-1.37c-.4-.4-.92-.59-1.43-.59-.52 0-1.04.2-1.43.59L10.3 9.45l-7.72 7.72c-.78.78-.78 2.05 0 2.83L4 21.41c.39.39.9.59 1.41.59.51 0 1.02-.2 1.41-.59l7.78-7.78 2.81-2.81c.8-.78.8-2.07 0-2.86zM5.41 20L4 18.59l7.72-7.72 1.47 1.35L5.41 20z\"/>\n",
              "  </svg>\n",
              "      </button>\n",
              "      \n",
              "  <style>\n",
              "    .colab-df-container {\n",
              "      display:flex;\n",
              "      flex-wrap:wrap;\n",
              "      gap: 12px;\n",
              "    }\n",
              "\n",
              "    .colab-df-convert {\n",
              "      background-color: #E8F0FE;\n",
              "      border: none;\n",
              "      border-radius: 50%;\n",
              "      cursor: pointer;\n",
              "      display: none;\n",
              "      fill: #1967D2;\n",
              "      height: 32px;\n",
              "      padding: 0 0 0 0;\n",
              "      width: 32px;\n",
              "    }\n",
              "\n",
              "    .colab-df-convert:hover {\n",
              "      background-color: #E2EBFA;\n",
              "      box-shadow: 0px 1px 2px rgba(60, 64, 67, 0.3), 0px 1px 3px 1px rgba(60, 64, 67, 0.15);\n",
              "      fill: #174EA6;\n",
              "    }\n",
              "\n",
              "    [theme=dark] .colab-df-convert {\n",
              "      background-color: #3B4455;\n",
              "      fill: #D2E3FC;\n",
              "    }\n",
              "\n",
              "    [theme=dark] .colab-df-convert:hover {\n",
              "      background-color: #434B5C;\n",
              "      box-shadow: 0px 1px 3px 1px rgba(0, 0, 0, 0.15);\n",
              "      filter: drop-shadow(0px 1px 2px rgba(0, 0, 0, 0.3));\n",
              "      fill: #FFFFFF;\n",
              "    }\n",
              "  </style>\n",
              "\n",
              "      <script>\n",
              "        const buttonEl =\n",
              "          document.querySelector('#df-a02540c7-d8e6-4925-ac84-2be9fcc9609d button.colab-df-convert');\n",
              "        buttonEl.style.display =\n",
              "          google.colab.kernel.accessAllowed ? 'block' : 'none';\n",
              "\n",
              "        async function convertToInteractive(key) {\n",
              "          const element = document.querySelector('#df-a02540c7-d8e6-4925-ac84-2be9fcc9609d');\n",
              "          const dataTable =\n",
              "            await google.colab.kernel.invokeFunction('convertToInteractive',\n",
              "                                                     [key], {});\n",
              "          if (!dataTable) return;\n",
              "\n",
              "          const docLinkHtml = 'Like what you see? Visit the ' +\n",
              "            '<a target=\"_blank\" href=https://colab.research.google.com/notebooks/data_table.ipynb>data table notebook</a>'\n",
              "            + ' to learn more about interactive tables.';\n",
              "          element.innerHTML = '';\n",
              "          dataTable['output_type'] = 'display_data';\n",
              "          await google.colab.output.renderOutput(dataTable, element);\n",
              "          const docLink = document.createElement('div');\n",
              "          docLink.innerHTML = docLinkHtml;\n",
              "          element.appendChild(docLink);\n",
              "        }\n",
              "      </script>\n",
              "    </div>\n",
              "  </div>\n",
              "  "
            ]
          },
          "metadata": {},
          "execution_count": 5
        }
      ],
      "source": [
        "df=df[['text','is_humor']]\n",
        "df.head()"
      ]
    },
    {
      "cell_type": "code",
      "execution_count": 6,
      "metadata": {
        "colab": {
          "base_uri": "https://localhost:8080/"
        },
        "id": "fWil13fvVpNw",
        "outputId": "d7818471-1549-4643-b08b-9d2bb8df5db5"
      },
      "outputs": [
        {
          "output_type": "execute_result",
          "data": {
            "text/plain": [
              "False"
            ]
          },
          "metadata": {},
          "execution_count": 6
        }
      ],
      "source": [
        "df.text.isnull().any() # no missing values in is_sarcastic column"
      ]
    },
    {
      "cell_type": "code",
      "execution_count": 7,
      "metadata": {
        "colab": {
          "base_uri": "https://localhost:8080/"
        },
        "id": "dUmNKGyBbq_0",
        "outputId": "94d863fa-f239-4067-a9b2-b4bfba15d38b"
      },
      "outputs": [
        {
          "output_type": "execute_result",
          "data": {
            "text/plain": [
              "False"
            ]
          },
          "metadata": {},
          "execution_count": 7
        }
      ],
      "source": [
        "df.is_humor.isnull().any() # no missing values in headline column"
      ]
    },
    {
      "cell_type": "code",
      "execution_count": 8,
      "metadata": {
        "id": "7O67rqQ1Vuqb"
      },
      "outputs": [],
      "source": [
        "df['text'] = df.text.apply(lambda x:x.lower())  # convert all words in text into lower case \n",
        "df['text'] = df.text.apply(lambda x: ' '.join(word.strip(string.punctuation) for word in x.split()))  # remove all punctuation "
      ]
    },
    {
      "cell_type": "code",
      "execution_count": 9,
      "metadata": {
        "id": "HevekJ8rh5t8"
      },
      "outputs": [],
      "source": [
        "df = df.assign(CleanText=\"\", TokenizeText=\"\", NoStopwords=\"\", LemmaText=\"\")"
      ]
    },
    {
      "cell_type": "code",
      "execution_count": 10,
      "metadata": {
        "colab": {
          "base_uri": "https://localhost:8080/"
        },
        "id": "G9BgZr73hV3V",
        "outputId": "5f256ffa-efc5-4bfd-8d8b-13b3627bb67f"
      },
      "outputs": [
        {
          "output_type": "stream",
          "name": "stderr",
          "text": [
            "/usr/local/lib/python3.7/dist-packages/ipykernel_launcher.py:1: FutureWarning: The default value of regex will change from True to False in a future version.\n",
            "  \"\"\"Entry point for launching an IPython kernel.\n"
          ]
        }
      ],
      "source": [
        "df['CleanText'] = df['text'].str.replace(\"'\", '').str.replace('[^\\w\\s]', ' ').str.replace(\" \\d+\", \" \").str.replace(' +', ' ').str.strip()"
      ]
    },
    {
      "cell_type": "code",
      "execution_count": 11,
      "metadata": {
        "colab": {
          "base_uri": "https://localhost:8080/",
          "height": 206
        },
        "id": "EuBS67rbhkBL",
        "outputId": "db554031-c5c5-496c-c7e0-413e53d350da"
      },
      "outputs": [
        {
          "output_type": "execute_result",
          "data": {
            "text/plain": [
              "                                                text  is_humor  \\\n",
              "0  niveles de retraso mental — bajo — medio — alt...         1   \n",
              "1  —vamos luke desenfunda tu sable demuestra tu o...         1   \n",
              "2   ¿te ofrezco algo ¿agua café mi corazón mi vid...         1   \n",
              "3              no se porqué me hago la cabeza deooos         0   \n",
              "4  quisiera saber que hago durante la siesta de l...         0   \n",
              "\n",
              "                                           CleanText TokenizeText NoStopwords  \\\n",
              "0  niveles de retraso mental bajo medio alto elev...                            \n",
              "1  vamos luke desenfunda tu sable demuestra tu od...                            \n",
              "2  te ofrezco algo agua café mi corazón mi vida e...                            \n",
              "3              no se porqué me hago la cabeza deooos                            \n",
              "4  quisiera saber que hago durante la siesta de l...                            \n",
              "\n",
              "  LemmaText  \n",
              "0            \n",
              "1            \n",
              "2            \n",
              "3            \n",
              "4            "
            ],
            "text/html": [
              "\n",
              "  <div id=\"df-5dbdb979-2dc8-49a1-a347-984e5c69fe02\">\n",
              "    <div class=\"colab-df-container\">\n",
              "      <div>\n",
              "<style scoped>\n",
              "    .dataframe tbody tr th:only-of-type {\n",
              "        vertical-align: middle;\n",
              "    }\n",
              "\n",
              "    .dataframe tbody tr th {\n",
              "        vertical-align: top;\n",
              "    }\n",
              "\n",
              "    .dataframe thead th {\n",
              "        text-align: right;\n",
              "    }\n",
              "</style>\n",
              "<table border=\"1\" class=\"dataframe\">\n",
              "  <thead>\n",
              "    <tr style=\"text-align: right;\">\n",
              "      <th></th>\n",
              "      <th>text</th>\n",
              "      <th>is_humor</th>\n",
              "      <th>CleanText</th>\n",
              "      <th>TokenizeText</th>\n",
              "      <th>NoStopwords</th>\n",
              "      <th>LemmaText</th>\n",
              "    </tr>\n",
              "  </thead>\n",
              "  <tbody>\n",
              "    <tr>\n",
              "      <th>0</th>\n",
              "      <td>niveles de retraso mental — bajo — medio — alt...</td>\n",
              "      <td>1</td>\n",
              "      <td>niveles de retraso mental bajo medio alto elev...</td>\n",
              "      <td></td>\n",
              "      <td></td>\n",
              "      <td></td>\n",
              "    </tr>\n",
              "    <tr>\n",
              "      <th>1</th>\n",
              "      <td>—vamos luke desenfunda tu sable demuestra tu o...</td>\n",
              "      <td>1</td>\n",
              "      <td>vamos luke desenfunda tu sable demuestra tu od...</td>\n",
              "      <td></td>\n",
              "      <td></td>\n",
              "      <td></td>\n",
              "    </tr>\n",
              "    <tr>\n",
              "      <th>2</th>\n",
              "      <td>¿te ofrezco algo ¿agua café mi corazón mi vid...</td>\n",
              "      <td>1</td>\n",
              "      <td>te ofrezco algo agua café mi corazón mi vida e...</td>\n",
              "      <td></td>\n",
              "      <td></td>\n",
              "      <td></td>\n",
              "    </tr>\n",
              "    <tr>\n",
              "      <th>3</th>\n",
              "      <td>no se porqué me hago la cabeza deooos</td>\n",
              "      <td>0</td>\n",
              "      <td>no se porqué me hago la cabeza deooos</td>\n",
              "      <td></td>\n",
              "      <td></td>\n",
              "      <td></td>\n",
              "    </tr>\n",
              "    <tr>\n",
              "      <th>4</th>\n",
              "      <td>quisiera saber que hago durante la siesta de l...</td>\n",
              "      <td>0</td>\n",
              "      <td>quisiera saber que hago durante la siesta de l...</td>\n",
              "      <td></td>\n",
              "      <td></td>\n",
              "      <td></td>\n",
              "    </tr>\n",
              "  </tbody>\n",
              "</table>\n",
              "</div>\n",
              "      <button class=\"colab-df-convert\" onclick=\"convertToInteractive('df-5dbdb979-2dc8-49a1-a347-984e5c69fe02')\"\n",
              "              title=\"Convert this dataframe to an interactive table.\"\n",
              "              style=\"display:none;\">\n",
              "        \n",
              "  <svg xmlns=\"http://www.w3.org/2000/svg\" height=\"24px\"viewBox=\"0 0 24 24\"\n",
              "       width=\"24px\">\n",
              "    <path d=\"M0 0h24v24H0V0z\" fill=\"none\"/>\n",
              "    <path d=\"M18.56 5.44l.94 2.06.94-2.06 2.06-.94-2.06-.94-.94-2.06-.94 2.06-2.06.94zm-11 1L8.5 8.5l.94-2.06 2.06-.94-2.06-.94L8.5 2.5l-.94 2.06-2.06.94zm10 10l.94 2.06.94-2.06 2.06-.94-2.06-.94-.94-2.06-.94 2.06-2.06.94z\"/><path d=\"M17.41 7.96l-1.37-1.37c-.4-.4-.92-.59-1.43-.59-.52 0-1.04.2-1.43.59L10.3 9.45l-7.72 7.72c-.78.78-.78 2.05 0 2.83L4 21.41c.39.39.9.59 1.41.59.51 0 1.02-.2 1.41-.59l7.78-7.78 2.81-2.81c.8-.78.8-2.07 0-2.86zM5.41 20L4 18.59l7.72-7.72 1.47 1.35L5.41 20z\"/>\n",
              "  </svg>\n",
              "      </button>\n",
              "      \n",
              "  <style>\n",
              "    .colab-df-container {\n",
              "      display:flex;\n",
              "      flex-wrap:wrap;\n",
              "      gap: 12px;\n",
              "    }\n",
              "\n",
              "    .colab-df-convert {\n",
              "      background-color: #E8F0FE;\n",
              "      border: none;\n",
              "      border-radius: 50%;\n",
              "      cursor: pointer;\n",
              "      display: none;\n",
              "      fill: #1967D2;\n",
              "      height: 32px;\n",
              "      padding: 0 0 0 0;\n",
              "      width: 32px;\n",
              "    }\n",
              "\n",
              "    .colab-df-convert:hover {\n",
              "      background-color: #E2EBFA;\n",
              "      box-shadow: 0px 1px 2px rgba(60, 64, 67, 0.3), 0px 1px 3px 1px rgba(60, 64, 67, 0.15);\n",
              "      fill: #174EA6;\n",
              "    }\n",
              "\n",
              "    [theme=dark] .colab-df-convert {\n",
              "      background-color: #3B4455;\n",
              "      fill: #D2E3FC;\n",
              "    }\n",
              "\n",
              "    [theme=dark] .colab-df-convert:hover {\n",
              "      background-color: #434B5C;\n",
              "      box-shadow: 0px 1px 3px 1px rgba(0, 0, 0, 0.15);\n",
              "      filter: drop-shadow(0px 1px 2px rgba(0, 0, 0, 0.3));\n",
              "      fill: #FFFFFF;\n",
              "    }\n",
              "  </style>\n",
              "\n",
              "      <script>\n",
              "        const buttonEl =\n",
              "          document.querySelector('#df-5dbdb979-2dc8-49a1-a347-984e5c69fe02 button.colab-df-convert');\n",
              "        buttonEl.style.display =\n",
              "          google.colab.kernel.accessAllowed ? 'block' : 'none';\n",
              "\n",
              "        async function convertToInteractive(key) {\n",
              "          const element = document.querySelector('#df-5dbdb979-2dc8-49a1-a347-984e5c69fe02');\n",
              "          const dataTable =\n",
              "            await google.colab.kernel.invokeFunction('convertToInteractive',\n",
              "                                                     [key], {});\n",
              "          if (!dataTable) return;\n",
              "\n",
              "          const docLinkHtml = 'Like what you see? Visit the ' +\n",
              "            '<a target=\"_blank\" href=https://colab.research.google.com/notebooks/data_table.ipynb>data table notebook</a>'\n",
              "            + ' to learn more about interactive tables.';\n",
              "          element.innerHTML = '';\n",
              "          dataTable['output_type'] = 'display_data';\n",
              "          await google.colab.output.renderOutput(dataTable, element);\n",
              "          const docLink = document.createElement('div');\n",
              "          docLink.innerHTML = docLinkHtml;\n",
              "          element.appendChild(docLink);\n",
              "        }\n",
              "      </script>\n",
              "    </div>\n",
              "  </div>\n",
              "  "
            ]
          },
          "metadata": {},
          "execution_count": 11
        }
      ],
      "source": [
        "df.head()"
      ]
    },
    {
      "cell_type": "code",
      "execution_count": 12,
      "metadata": {
        "id": "tKMgCn7Fd0vN"
      },
      "outputs": [],
      "source": [
        "def Tokenizacion(tweet):\n",
        "  tokenizer = TweetTokenizer(preserve_case=False, strip_handles=True, reduce_len=True)\n",
        "  tweet_tokens = tokenizer.tokenize(tweet)\n",
        "  return tweet_tokens"
      ]
    },
    {
      "cell_type": "code",
      "execution_count": 13,
      "metadata": {
        "colab": {
          "base_uri": "https://localhost:8080/"
        },
        "id": "th39gBTUd3bA",
        "outputId": "5057cf9c-5b0d-40ed-8df9-930c8b0c13a5"
      },
      "outputs": [
        {
          "output_type": "stream",
          "name": "stderr",
          "text": [
            "/usr/local/lib/python3.7/dist-packages/ipykernel_launcher.py:2: SettingWithCopyWarning: \n",
            "A value is trying to be set on a copy of a slice from a DataFrame\n",
            "\n",
            "See the caveats in the documentation: https://pandas.pydata.org/pandas-docs/stable/user_guide/indexing.html#returning-a-view-versus-a-copy\n",
            "  \n"
          ]
        }
      ],
      "source": [
        "for i in range(len(df)):\n",
        "  df['TokenizeText'][i] = Tokenizacion(df['CleanText'][i])"
      ]
    },
    {
      "cell_type": "code",
      "execution_count": 14,
      "metadata": {
        "id": "24IYZTzUiZYP"
      },
      "outputs": [],
      "source": [
        "stop_words_sp = set(stopwords.words('spanish'))\n",
        "stop_words_en = set(stopwords.words('english'))\n",
        "#Concatenar las stopwords aplicándose a una cuenta que genera contenido en inglés y español\n",
        "stop_words = stop_words_sp | stop_words_en"
      ]
    },
    {
      "cell_type": "code",
      "execution_count": 15,
      "metadata": {
        "id": "HDwQVpUlgAy5"
      },
      "outputs": [],
      "source": [
        "df['NoStopwords'] = df['TokenizeText'].apply(lambda x: [item for item in x if item not in stop_words])"
      ]
    },
    {
      "cell_type": "code",
      "execution_count": 16,
      "metadata": {
        "id": "MpA7dCHUhqgQ"
      },
      "outputs": [],
      "source": [
        "def Stemming(tweet):\n",
        "  stemmer = SnowballStemmer(\"spanish\")\n",
        "  tweets_clean = []\n",
        "  for word in tweet:\n",
        "      stem_word = stemmer.stem(word)  # stemming word\n",
        "      tweets_clean.append(stem_word)\n",
        "\n",
        "  return tweets_clean"
      ]
    },
    {
      "cell_type": "code",
      "execution_count": 17,
      "metadata": {
        "colab": {
          "base_uri": "https://localhost:8080/"
        },
        "id": "l00Vnik0eluS",
        "outputId": "064dc6d9-51bd-4033-c159-d713a01bb006"
      },
      "outputs": [
        {
          "output_type": "stream",
          "name": "stderr",
          "text": [
            "/usr/local/lib/python3.7/dist-packages/ipykernel_launcher.py:2: SettingWithCopyWarning: \n",
            "A value is trying to be set on a copy of a slice from a DataFrame\n",
            "\n",
            "See the caveats in the documentation: https://pandas.pydata.org/pandas-docs/stable/user_guide/indexing.html#returning-a-view-versus-a-copy\n",
            "  \n"
          ]
        }
      ],
      "source": [
        "for i in range(len(df)):\n",
        "  df[\"LemmaText\"][i] = Stemming(df['NoStopwords'][i])\n",
        "  "
      ]
    },
    {
      "cell_type": "code",
      "execution_count": 18,
      "metadata": {
        "id": "iTtC4Ya5jY8r"
      },
      "outputs": [],
      "source": [
        "# df = df.assign(Corpus='')"
      ]
    },
    {
      "cell_type": "code",
      "execution_count": 19,
      "metadata": {
        "id": "rUzZv_0pjhy9"
      },
      "outputs": [],
      "source": [
        "# for i in range(len(df)):\n",
        "#   df[\"Corpus\"][i] = ' '.join(df['NoStopwords'][i])\n",
        "  "
      ]
    },
    {
      "cell_type": "code",
      "execution_count": 20,
      "metadata": {
        "colab": {
          "base_uri": "https://localhost:8080/",
          "height": 337
        },
        "id": "yXVO-xTiiUKu",
        "outputId": "e94939bf-eeed-470a-be20-dbbbf16939de"
      },
      "outputs": [
        {
          "output_type": "execute_result",
          "data": {
            "text/plain": [
              "                                                text  is_humor  \\\n",
              "0  niveles de retraso mental — bajo — medio — alt...         1   \n",
              "1  —vamos luke desenfunda tu sable demuestra tu o...         1   \n",
              "2   ¿te ofrezco algo ¿agua café mi corazón mi vid...         1   \n",
              "3              no se porqué me hago la cabeza deooos         0   \n",
              "4  quisiera saber que hago durante la siesta de l...         0   \n",
              "\n",
              "                                           CleanText  \\\n",
              "0  niveles de retraso mental bajo medio alto elev...   \n",
              "1  vamos luke desenfunda tu sable demuestra tu od...   \n",
              "2  te ofrezco algo agua café mi corazón mi vida e...   \n",
              "3              no se porqué me hago la cabeza deooos   \n",
              "4  quisiera saber que hago durante la siesta de l...   \n",
              "\n",
              "                                        TokenizeText  \\\n",
              "0  [niveles, de, retraso, mental, bajo, medio, al...   \n",
              "1  [vamos, luke, desenfunda, tu, sable, demuestra...   \n",
              "2  [te, ofrezco, algo, agua, café, mi, corazón, m...   \n",
              "3     [no, se, porqué, me, hago, la, cabeza, deooos]   \n",
              "4  [quisiera, saber, que, hago, durante, la, sies...   \n",
              "\n",
              "                                         NoStopwords  \\\n",
              "0  [niveles, retraso, mental, bajo, medio, alto, ...   \n",
              "1  [vamos, luke, desenfunda, sable, demuestra, od...   \n",
              "2  [ofrezco, agua, café, corazón, vida, entera, a...   \n",
              "3                     [porqué, hago, cabeza, deooos]   \n",
              "4  [quisiera, saber, hago, siesta, levanto, cansa...   \n",
              "\n",
              "                                           LemmaText  \n",
              "0  [nivel, retras, mental, baj, medi, alto, elev,...  \n",
              "1  [vam, luk, desenfund, sabl, demuestr, odi, per...  \n",
              "2  [ofrezc, agu, caf, corazon, vid, enter, agu, b...  \n",
              "3                          [porqu, hag, cabez, deoo]  \n",
              "4  [quis, sab, hag, siest, levant, cans, acost, d...  "
            ],
            "text/html": [
              "\n",
              "  <div id=\"df-2eae8d55-76e2-4650-8fcd-bd0514a9e636\">\n",
              "    <div class=\"colab-df-container\">\n",
              "      <div>\n",
              "<style scoped>\n",
              "    .dataframe tbody tr th:only-of-type {\n",
              "        vertical-align: middle;\n",
              "    }\n",
              "\n",
              "    .dataframe tbody tr th {\n",
              "        vertical-align: top;\n",
              "    }\n",
              "\n",
              "    .dataframe thead th {\n",
              "        text-align: right;\n",
              "    }\n",
              "</style>\n",
              "<table border=\"1\" class=\"dataframe\">\n",
              "  <thead>\n",
              "    <tr style=\"text-align: right;\">\n",
              "      <th></th>\n",
              "      <th>text</th>\n",
              "      <th>is_humor</th>\n",
              "      <th>CleanText</th>\n",
              "      <th>TokenizeText</th>\n",
              "      <th>NoStopwords</th>\n",
              "      <th>LemmaText</th>\n",
              "    </tr>\n",
              "  </thead>\n",
              "  <tbody>\n",
              "    <tr>\n",
              "      <th>0</th>\n",
              "      <td>niveles de retraso mental — bajo — medio — alt...</td>\n",
              "      <td>1</td>\n",
              "      <td>niveles de retraso mental bajo medio alto elev...</td>\n",
              "      <td>[niveles, de, retraso, mental, bajo, medio, al...</td>\n",
              "      <td>[niveles, retraso, mental, bajo, medio, alto, ...</td>\n",
              "      <td>[nivel, retras, mental, baj, medi, alto, elev,...</td>\n",
              "    </tr>\n",
              "    <tr>\n",
              "      <th>1</th>\n",
              "      <td>—vamos luke desenfunda tu sable demuestra tu o...</td>\n",
              "      <td>1</td>\n",
              "      <td>vamos luke desenfunda tu sable demuestra tu od...</td>\n",
              "      <td>[vamos, luke, desenfunda, tu, sable, demuestra...</td>\n",
              "      <td>[vamos, luke, desenfunda, sable, demuestra, od...</td>\n",
              "      <td>[vam, luk, desenfund, sabl, demuestr, odi, per...</td>\n",
              "    </tr>\n",
              "    <tr>\n",
              "      <th>2</th>\n",
              "      <td>¿te ofrezco algo ¿agua café mi corazón mi vid...</td>\n",
              "      <td>1</td>\n",
              "      <td>te ofrezco algo agua café mi corazón mi vida e...</td>\n",
              "      <td>[te, ofrezco, algo, agua, café, mi, corazón, m...</td>\n",
              "      <td>[ofrezco, agua, café, corazón, vida, entera, a...</td>\n",
              "      <td>[ofrezc, agu, caf, corazon, vid, enter, agu, b...</td>\n",
              "    </tr>\n",
              "    <tr>\n",
              "      <th>3</th>\n",
              "      <td>no se porqué me hago la cabeza deooos</td>\n",
              "      <td>0</td>\n",
              "      <td>no se porqué me hago la cabeza deooos</td>\n",
              "      <td>[no, se, porqué, me, hago, la, cabeza, deooos]</td>\n",
              "      <td>[porqué, hago, cabeza, deooos]</td>\n",
              "      <td>[porqu, hag, cabez, deoo]</td>\n",
              "    </tr>\n",
              "    <tr>\n",
              "      <th>4</th>\n",
              "      <td>quisiera saber que hago durante la siesta de l...</td>\n",
              "      <td>0</td>\n",
              "      <td>quisiera saber que hago durante la siesta de l...</td>\n",
              "      <td>[quisiera, saber, que, hago, durante, la, sies...</td>\n",
              "      <td>[quisiera, saber, hago, siesta, levanto, cansa...</td>\n",
              "      <td>[quis, sab, hag, siest, levant, cans, acost, d...</td>\n",
              "    </tr>\n",
              "  </tbody>\n",
              "</table>\n",
              "</div>\n",
              "      <button class=\"colab-df-convert\" onclick=\"convertToInteractive('df-2eae8d55-76e2-4650-8fcd-bd0514a9e636')\"\n",
              "              title=\"Convert this dataframe to an interactive table.\"\n",
              "              style=\"display:none;\">\n",
              "        \n",
              "  <svg xmlns=\"http://www.w3.org/2000/svg\" height=\"24px\"viewBox=\"0 0 24 24\"\n",
              "       width=\"24px\">\n",
              "    <path d=\"M0 0h24v24H0V0z\" fill=\"none\"/>\n",
              "    <path d=\"M18.56 5.44l.94 2.06.94-2.06 2.06-.94-2.06-.94-.94-2.06-.94 2.06-2.06.94zm-11 1L8.5 8.5l.94-2.06 2.06-.94-2.06-.94L8.5 2.5l-.94 2.06-2.06.94zm10 10l.94 2.06.94-2.06 2.06-.94-2.06-.94-.94-2.06-.94 2.06-2.06.94z\"/><path d=\"M17.41 7.96l-1.37-1.37c-.4-.4-.92-.59-1.43-.59-.52 0-1.04.2-1.43.59L10.3 9.45l-7.72 7.72c-.78.78-.78 2.05 0 2.83L4 21.41c.39.39.9.59 1.41.59.51 0 1.02-.2 1.41-.59l7.78-7.78 2.81-2.81c.8-.78.8-2.07 0-2.86zM5.41 20L4 18.59l7.72-7.72 1.47 1.35L5.41 20z\"/>\n",
              "  </svg>\n",
              "      </button>\n",
              "      \n",
              "  <style>\n",
              "    .colab-df-container {\n",
              "      display:flex;\n",
              "      flex-wrap:wrap;\n",
              "      gap: 12px;\n",
              "    }\n",
              "\n",
              "    .colab-df-convert {\n",
              "      background-color: #E8F0FE;\n",
              "      border: none;\n",
              "      border-radius: 50%;\n",
              "      cursor: pointer;\n",
              "      display: none;\n",
              "      fill: #1967D2;\n",
              "      height: 32px;\n",
              "      padding: 0 0 0 0;\n",
              "      width: 32px;\n",
              "    }\n",
              "\n",
              "    .colab-df-convert:hover {\n",
              "      background-color: #E2EBFA;\n",
              "      box-shadow: 0px 1px 2px rgba(60, 64, 67, 0.3), 0px 1px 3px 1px rgba(60, 64, 67, 0.15);\n",
              "      fill: #174EA6;\n",
              "    }\n",
              "\n",
              "    [theme=dark] .colab-df-convert {\n",
              "      background-color: #3B4455;\n",
              "      fill: #D2E3FC;\n",
              "    }\n",
              "\n",
              "    [theme=dark] .colab-df-convert:hover {\n",
              "      background-color: #434B5C;\n",
              "      box-shadow: 0px 1px 3px 1px rgba(0, 0, 0, 0.15);\n",
              "      filter: drop-shadow(0px 1px 2px rgba(0, 0, 0, 0.3));\n",
              "      fill: #FFFFFF;\n",
              "    }\n",
              "  </style>\n",
              "\n",
              "      <script>\n",
              "        const buttonEl =\n",
              "          document.querySelector('#df-2eae8d55-76e2-4650-8fcd-bd0514a9e636 button.colab-df-convert');\n",
              "        buttonEl.style.display =\n",
              "          google.colab.kernel.accessAllowed ? 'block' : 'none';\n",
              "\n",
              "        async function convertToInteractive(key) {\n",
              "          const element = document.querySelector('#df-2eae8d55-76e2-4650-8fcd-bd0514a9e636');\n",
              "          const dataTable =\n",
              "            await google.colab.kernel.invokeFunction('convertToInteractive',\n",
              "                                                     [key], {});\n",
              "          if (!dataTable) return;\n",
              "\n",
              "          const docLinkHtml = 'Like what you see? Visit the ' +\n",
              "            '<a target=\"_blank\" href=https://colab.research.google.com/notebooks/data_table.ipynb>data table notebook</a>'\n",
              "            + ' to learn more about interactive tables.';\n",
              "          element.innerHTML = '';\n",
              "          dataTable['output_type'] = 'display_data';\n",
              "          await google.colab.output.renderOutput(dataTable, element);\n",
              "          const docLink = document.createElement('div');\n",
              "          docLink.innerHTML = docLinkHtml;\n",
              "          element.appendChild(docLink);\n",
              "        }\n",
              "      </script>\n",
              "    </div>\n",
              "  </div>\n",
              "  "
            ]
          },
          "metadata": {},
          "execution_count": 20
        }
      ],
      "source": [
        "df.head()"
      ]
    },
    {
      "cell_type": "markdown",
      "metadata": {
        "id": "wxbn_tZpY7OM"
      },
      "source": [
        "# LDA"
      ]
    },
    {
      "cell_type": "code",
      "execution_count": 21,
      "metadata": {
        "colab": {
          "base_uri": "https://localhost:8080/"
        },
        "id": "l7Ery_BiVddt",
        "outputId": "daf7ba1a-9288-4007-f516-c45a577c7771"
      },
      "outputs": [
        {
          "output_type": "stream",
          "name": "stdout",
          "text": [
            "Requirement already satisfied: gensim in /usr/local/lib/python3.7/dist-packages (3.6.0)\n",
            "Collecting gensim\n",
            "  Downloading gensim-4.2.0-cp37-cp37m-manylinux_2_12_x86_64.manylinux2010_x86_64.whl (24.1 MB)\n",
            "\u001b[K     |████████████████████████████████| 24.1 MB 1.4 MB/s \n",
            "\u001b[?25hRequirement already satisfied: scipy>=0.18.1 in /usr/local/lib/python3.7/dist-packages (from gensim) (1.4.1)\n",
            "Requirement already satisfied: numpy>=1.17.0 in /usr/local/lib/python3.7/dist-packages (from gensim) (1.21.6)\n",
            "Requirement already satisfied: smart-open>=1.8.1 in /usr/local/lib/python3.7/dist-packages (from gensim) (6.0.0)\n",
            "Installing collected packages: gensim\n",
            "  Attempting uninstall: gensim\n",
            "    Found existing installation: gensim 3.6.0\n",
            "    Uninstalling gensim-3.6.0:\n",
            "      Successfully uninstalled gensim-3.6.0\n",
            "Successfully installed gensim-4.2.0\n"
          ]
        }
      ],
      "source": [
        "!python -m pip install -U gensim"
      ]
    },
    {
      "cell_type": "code",
      "execution_count": 22,
      "metadata": {
        "id": "eD-DNyZV25f_"
      },
      "outputs": [],
      "source": [
        "from gensim.corpora import Dictionary\n",
        "from gensim.models import LdaModel\n",
        "import random\n",
        "import numpy as np\n",
        "import matplotlib.pyplot as plt\n",
        "from wordcloud import WordCloud\n",
        "%matplotlib inline"
      ]
    },
    {
      "cell_type": "markdown",
      "metadata": {
        "id": "CTrnlE7r-LX9"
      },
      "source": [
        "Se crea un diccionario que asigna un identificador numerico a cada palabra unica. "
      ]
    },
    {
      "cell_type": "code",
      "execution_count": 37,
      "metadata": {
        "colab": {
          "base_uri": "https://localhost:8080/"
        },
        "id": "u89Nfc5H282U",
        "outputId": "54cc270c-813d-4809-fefe-d41dd050fb6d"
      },
      "outputs": [
        {
          "output_type": "stream",
          "name": "stdout",
          "text": [
            "Número de tokens: 32047\n"
          ]
        }
      ],
      "source": [
        "diccionario = Dictionary(df.NoStopwords)\n",
        "print(f'Número de tokens: {len(diccionario)}')"
      ]
    },
    {
      "cell_type": "markdown",
      "metadata": {
        "id": "HFZNnsbO-k1A"
      },
      "source": [
        "Reducimos el diccionario filtrando las palabras raras o demasiado frecuentes. Para esto utilizamos la función *filter_extremes* que nos servira para mantener unicamente aquellos tokens que se encuentran en al menos 2 tweets y los que estan contenidos en no mas del 80%.\n"
      ]
    },
    {
      "cell_type": "code",
      "execution_count": 38,
      "metadata": {
        "colab": {
          "base_uri": "https://localhost:8080/"
        },
        "id": "vX-jg_lt3EoQ",
        "outputId": "62b80f16-3484-49b9-ef84-bcf7af86c94f"
      },
      "outputs": [
        {
          "output_type": "stream",
          "name": "stdout",
          "text": [
            "Número de tokens: 222\n"
          ]
        }
      ],
      "source": [
        "diccionario.filter_extremes(no_below=50, no_above = 0.8)\n",
        "print(f'Número de tokens: {len(diccionario)}')"
      ]
    },
    {
      "cell_type": "markdown",
      "metadata": {
        "id": "EeKezafl_O98"
      },
      "source": [
        "Creamos el corpus en base al diccionario anterior. Cada tweet se transformara en una bolsa de palabras con las frecuencia de aparicion.\n",
        "Veremos que cada tweet esta representado como una lista de tuplas donde el primer elemento es el identificador numerico de la palabra y el segundo es el numero de veces que esa palabra aparece en el tweet.\n",
        "\n",
        "A continuación se muestra como se construye el corpus aplicando la función doc2bow del diccionario a cada lista de palabras:"
      ]
    },
    {
      "cell_type": "code",
      "execution_count": 39,
      "metadata": {
        "colab": {
          "base_uri": "https://localhost:8080/"
        },
        "id": "_bDy0Fzn3JLz",
        "outputId": "23ebe49e-e37a-4bf5-a490-811d36ce4ee5"
      },
      "outputs": [
        {
          "output_type": "stream",
          "name": "stdout",
          "text": [
            "[(19, 1), (20, 1), (21, 1), (22, 1)]\n"
          ]
        }
      ],
      "source": [
        "# Creamos el corpus \n",
        "corpus = [diccionario.doc2bow(tweet) for tweet in df.NoStopwords]\n",
        "\n",
        "# Mostramos el BOW de un tweet\n",
        "print(corpus[6])\n"
      ]
    },
    {
      "cell_type": "code",
      "source": [
        ""
      ],
      "metadata": {
        "id": "D6yaRXqhhjq_"
      },
      "execution_count": null,
      "outputs": []
    },
    {
      "cell_type": "markdown",
      "metadata": {
        "id": "D0VMsD-DA-Fw"
      },
      "source": [
        "## Modelo"
      ]
    },
    {
      "cell_type": "code",
      "execution_count": 41,
      "metadata": {
        "id": "ZnO_8Tm83WEn"
      },
      "outputs": [],
      "source": [
        "lda = LdaModel(corpus=corpus, id2word=diccionario, \n",
        "               num_topics=50, random_state=42, \n",
        "               chunksize=1000, passes=10, alpha='auto')"
      ]
    },
    {
      "cell_type": "markdown",
      "metadata": {
        "id": "WUYtis4WBaJB"
      },
      "source": [
        "Visualizamos los topicos extraidos. Por cada topico podemos ver las cinco palabras que mas contribuyen a ese topico y sus pesos en el mismo. El peso indica que tan importante es esa palabra en ese topico."
      ]
    },
    {
      "cell_type": "code",
      "execution_count": 42,
      "metadata": {
        "colab": {
          "base_uri": "https://localhost:8080/"
        },
        "id": "TCMGzcjk3Yro",
        "outputId": "59a5e7ae-1744-498c-c664-2bff3bb4ac08"
      },
      "outputs": [
        {
          "output_type": "stream",
          "name": "stdout",
          "text": [
            "(35, '0.633*\"amo\" + 0.356*\"nombre\" + 0.000*\"quieres\" + 0.000*\"nuevo\" + 0.000*\"llama\"')\n",
            "(24, '0.644*\"vas\" + 0.347*\"ahí\" + 0.000*\"nombre\" + 0.000*\"llama\" + 0.000*\"nuevo\"')\n",
            "(17, '0.586*\"mañana\" + 0.407*\"doctor\" + 0.000*\"nombre\" + 0.000*\"puedes\" + 0.000*\"llama\"')\n",
            "(28, '0.301*\"dinero\" + 0.242*\"calle\" + 0.239*\"pa\" + 0.211*\"ayer\" + 0.000*\"quieres\"')\n",
            "(1, '0.699*\"puedo\" + 0.293*\"falta\" + 0.000*\"llama\" + 0.000*\"quieres\" + 0.000*\"nombre\"')\n",
            "(16, '0.739*\"ahora\" + 0.254*\"comer\" + 0.000*\"nuevo\" + 0.000*\"doctor\" + 0.000*\"nombre\"')\n",
            "(25, '0.390*\"veces\" + 0.347*\"quiere\" + 0.257*\"mama\" + 0.000*\"nombre\" + 0.000*\"llama\"')\n",
            "(29, '0.411*\"dijo\" + 0.407*\"madre\" + 0.176*\"puedes\" + 0.000*\"doctor\" + 0.000*\"nombre\"')\n",
            "(22, '0.326*\"mierda\" + 0.246*\"pregunta\" + 0.244*\"hija\" + 0.178*\"tres\" + 0.000*\"verdad\"')\n",
            "(5, '0.664*\"casa\" + 0.330*\"sólo\" + 0.000*\"nombre\" + 0.000*\"doctor\" + 0.000*\"noche\"')\n",
            "(21, '0.240*\"así\" + 0.238*\"sé\" + 0.227*\"tener\" + 0.210*\"nadie\" + 0.082*\"cabeza\"')\n",
            "(18, '0.272*\"gente\" + 0.213*\"puta\" + 0.162*\"amigos\" + 0.136*\"pendejo\" + 0.135*\"señor\"')\n",
            "(49, '0.316*\"alguien\" + 0.207*\"pues\" + 0.186*\"oye\" + 0.131*\"ok\" + 0.080*\"escuela\"')\n",
            "(48, '0.389*\"día\" + 0.211*\"mas\" + 0.151*\"quién\" + 0.091*\"noche\" + 0.081*\"dar\"')\n",
            "(15, '0.323*\"cómo\" + 0.224*\"dos\" + 0.198*\"hola\" + 0.130*\"cuál\" + 0.076*\"iba\"')\n",
            "(31, '0.301*\"hace\" + 0.141*\"menos\" + 0.131*\"después\" + 0.114*\"amigo\" + 0.108*\"buena\"')\n",
            "(6, '0.302*\"chistes\" + 0.228*\"rt\" + 0.119*\"chiste\" + 0.081*\"humor\" + 0.069*\"momento\"')\n",
            "(27, '0.353*\"vida\" + 0.247*\"nunca\" + 0.158*\"ir\" + 0.108*\"cuenta\" + 0.076*\"dónde\"')\n",
            "(33, '0.998*\"si\" + 0.000*\"doctor\" + 0.000*\"nuevo\" + 0.000*\"llama\" + 0.000*\"puedes\"')\n",
            "(42, '0.276*\"voy\" + 0.222*\"hoy\" + 0.142*\"papá\" + 0.121*\"gracias\" + 0.119*\"mundo\"')\n"
          ]
        }
      ],
      "source": [
        "topicos = lda.print_topics(num_words=5, num_topics=20)\n",
        "for topico in topicos:\n",
        "    print(topico)"
      ]
    },
    {
      "cell_type": "markdown",
      "metadata": {
        "id": "C1kXwvMECApM"
      },
      "source": [
        "También podemos visualizar las palabras más importantes de cada tópico mediante nube de palabras, donde el tamaño de cada palabra corresponde con su contribución en el tópico."
      ]
    },
    {
      "cell_type": "code",
      "execution_count": 43,
      "metadata": {
        "colab": {
          "base_uri": "https://localhost:8080/",
          "height": 805
        },
        "id": "Aquau_8a3cB3",
        "outputId": "15c145d2-3258-46b5-e9ee-965cecc67bef"
      },
      "outputs": [
        {
          "output_type": "display_data",
          "data": {
            "text/plain": [
              "<Figure size 432x288 with 1 Axes>"
            ],
            "image/png": "[encoded data removed]"
          },
          "metadata": {
            "needs_background": "light"
          }
        },
        {
          "output_type": "display_data",
          "data": {
            "text/plain": [
              "<Figure size 432x288 with 1 Axes>"
            ],
            "image/png": "[encoded data removed]"
          },
          "metadata": {
            "needs_background": "light"
          }
        },
        {
          "output_type": "display_data",
          "data": {
            "text/plain": [
              "<Figure size 432x288 with 1 Axes>"
            ],
            "image/png": "[encoded data removed]"
          },
          "metadata": {
            "needs_background": "light"
          }
        },
        {
          "output_type": "display_data",
          "data": {
            "text/plain": [
              "<Figure size 432x288 with 1 Axes>"
            ],
            "image/png": "[encoded data removed]"
          },
          "metadata": {
            "needs_background": "light"
          }
        }
      ],
      "source": [
        "for i in range(1, 5):\n",
        "    plt.figure()\n",
        "    plt.imshow(WordCloud(background_color='white', prefer_horizontal=1.0)\n",
        "               .fit_words(dict(lda.show_topic(i, 20))))\n",
        "    plt.axis(\"off\")\n",
        "    plt.title(\"Tópico \" + str(i))\n",
        "    plt.show()"
      ]
    },
    {
      "cell_type": "markdown",
      "metadata": {
        "id": "6b7lGvjLCMd_"
      },
      "source": [
        "## Evaluacion del modelo"
      ]
    },
    {
      "cell_type": "markdown",
      "metadata": {
        "id": "fhAz099FCTY4"
      },
      "source": [
        "Para evaluar el rendimiento del modelo, estimaremos los tópicos en dos tweets diferentes. En el primer caso, escogeremos un tweet de entre los tweet utilizados en el corpus para entrenar el modelo y para la segunda prueba utilizaremos una nueva broma.\n",
        "\n",
        "Así, empezamos escogiendo una tweet del corpus al azar y mostramos su contenido:"
      ]
    },
    {
      "cell_type": "code",
      "execution_count": 49,
      "metadata": {
        "colab": {
          "base_uri": "https://localhost:8080/"
        },
        "id": "KUfQtjj43_bV",
        "outputId": "8ce439d9-ecf5-4953-e36e-2fdd13944960"
      },
      "outputs": [
        {
          "output_type": "stream",
          "name": "stdout",
          "text": [
            "Text: —durante años te esperé y ahora que te tengo tan cerca no lo puedo creer —¡gracias mi amor —¡cállate le estoy hablando al mundial\n"
          ]
        }
      ],
      "source": [
        "indice_tweet = random.randint(0,len(df))\n",
        "tweet = df.iloc[indice_tweet]\n",
        "print(\"Text: \" + tweet.text)"
      ]
    },
    {
      "cell_type": "markdown",
      "metadata": {
        "id": "VbnxTFd0C5ni"
      },
      "source": [
        "Primero debemos obtener la representación BOW del dataset y la distribución de los tópicos:"
      ]
    },
    {
      "cell_type": "code",
      "execution_count": 45,
      "metadata": {
        "id": "FL9DNYVF4jwA"
      },
      "outputs": [],
      "source": [
        "bow_tweet = corpus[indice_tweet]\n",
        "distribucion_tweet = lda[bow_tweet]\n"
      ]
    },
    {
      "cell_type": "markdown",
      "metadata": {
        "id": "zcM1BQgpC-in"
      },
      "source": [
        "Después, sacamos los índices y la contribución (proporción) de los tópicos más significativos para nuestros tweets y los mostramos en un gráfico de barras para un mejor entendimiento."
      ]
    },
    {
      "cell_type": "code",
      "execution_count": 46,
      "metadata": {
        "id": "bT60P-Kb4zk_"
      },
      "outputs": [],
      "source": [
        "#Indices de los topicos mas significativos\n",
        "dist_indices = [topico[0] for topico in lda[bow_tweet]]\n",
        "# Contribución de los topicos mas significativos\n",
        "dist_contrib = [topico[1] for topico in lda[bow_tweet]]"
      ]
    },
    {
      "cell_type": "code",
      "execution_count": 47,
      "metadata": {
        "colab": {
          "base_uri": "https://localhost:8080/",
          "height": 295
        },
        "id": "1Kw0KEbH46Qi",
        "outputId": "039a8128-f3ca-4043-ddfa-0059a237e9a7"
      },
      "outputs": [
        {
          "output_type": "display_data",
          "data": {
            "text/plain": [
              "<Figure size 432x288 with 1 Axes>"
            ],
            "image/png": "[encoded data removed]"
          },
          "metadata": {
            "needs_background": "light"
          }
        }
      ],
      "source": [
        "distribucion_topicos = pd.DataFrame({'Topico':dist_indices,\n",
        "                                     'Contribucion':dist_contrib })\n",
        "distribucion_topicos.sort_values('Contribucion', \n",
        "                                 ascending=False, inplace=True)\n",
        "ax = distribucion_topicos.plot.bar(y='Contribucion',x='Topico', \n",
        "                                   rot=0, color=\"orange\",\n",
        "                                   title = 'Tópicos mas importantes'\n",
        "                                   'de Bromas ' + str(indice_tweet))"
      ]
    },
    {
      "cell_type": "markdown",
      "metadata": {
        "id": "EWygrQVrDHAV"
      },
      "source": [
        "El tópico más predominante en los tweets es el 15, seguido de los tópicos 36 y 35. Seguidamente, imprimimos las palabras más significativas de estos."
      ]
    },
    {
      "cell_type": "code",
      "execution_count": 48,
      "metadata": {
        "colab": {
          "base_uri": "https://localhost:8080/"
        },
        "id": "U63j4J8Q5Fzg",
        "outputId": "d468d056-8f58-440c-b67a-d8b8d0cc4044"
      },
      "outputs": [
        {
          "output_type": "stream",
          "name": "stdout",
          "text": [
            "*** Tópico: 15 ***\n",
            "cómo, dos, hola, cuál, iba, triste, quieres, nombre, mundo, llama \n",
            "\n",
            "*** Tópico: 36 ***\n",
            "mujer, dicen, jajaja, cara, nuevo, ojalá, nombre, llama, doctor, mundo \n",
            "\n",
            "*** Tópico: 4 ***\n",
            "fb, ay, ojalá, mientras, viene, noche, llama, doctor, quieres, nuevo \n",
            "\n",
            "*** Tópico: 35 ***\n",
            "amo, nombre, nuevo, quieres, llama, doctor, mundo, frases, ojalá, visto \n",
            "\n",
            "*** Tópico: 42 ***\n",
            "voy, hoy, papá, gracias, mundo, novio, frases, nuevo, gente, llama \n",
            "\n",
            "*** Tópico: 33 ***\n",
            "si, nuevo, puedes, nombre, llama, doctor, mundo, noche, frases, gente \n",
            "\n"
          ]
        }
      ],
      "source": [
        "for ind, topico in distribucion_topicos.iterrows():\n",
        "    print(\"*** Tópico: \" + str(int(topico.Topico)) + \" ***\")\n",
        "    palabras = [palabra[0] for palabra in lda.show_topic(\n",
        "        topicid=int(topico.Topico))]\n",
        "    palabras = ', '.join(palabras)\n",
        "    print(palabras, \"\\n\")"
      ]
    },
    {
      "cell_type": "code",
      "execution_count": 48,
      "metadata": {
        "id": "O_uP7fYhDQSA"
      },
      "outputs": [],
      "source": [
        ""
      ]
    }
  ],
  "metadata": {
    "colab": {
      "collapsed_sections": [],
      "name": "PLNPF.ipynb",
      "provenance": []
    },
    "kernelspec": {
      "display_name": "Python 3",
      "name": "python3"
    },
    "language_info": {
      "name": "python"
    }
  },
  "nbformat": 4,
  "nbformat_minor": 0
}